{
 "cells": [
  {
   "cell_type": "code",
   "execution_count": 1,
   "metadata": {},
   "outputs": [],
   "source": [
    "import os\n",
    "import sys \n",
    "import random\n",
    "import pandas as pd\n",
    "import numpy as np\n",
    "\n",
    "import skimage.io\n",
    "import skimage.measure\n",
    "import matplotlib.pyplot as plt\n",
    "import requests\n",
    "import json\n",
    "from tqdm import tqdm\n",
    "\n",
    "from PIL import Image\n",
    "import glob \n",
    "\n",
    "import pydicom \n",
    "from pprint import pprint \n",
    "import requests\n",
    "\n",
    "%matplotlib inline"
   ]
  },
  {
   "cell_type": "code",
   "execution_count": 2,
   "metadata": {},
   "outputs": [
    {
     "data": {
      "text/plain": [
       "'0.0.5'"
      ]
     },
     "execution_count": 2,
     "metadata": {},
     "output_type": "execute_result"
    }
   ],
   "source": [
    "# !pip install --upgrade mdai \n",
    "\n",
    "MODULE_DIR = os.path.abspath('../mdai-client-py')\n",
    "sys.path.append(MODULE_DIR)\n",
    "\n",
    "import mdai\n",
    "import importlib\n",
    "importlib.reload(mdai)\n",
    "\n",
    "mdai.__version__"
   ]
  },
  {
   "cell_type": "code",
   "execution_count": 3,
   "metadata": {},
   "outputs": [],
   "source": [
    "ROOT_DIR = os.path.abspath('')\n",
    "DICOM_DIR = os.path.join(DATA_ROOT_DIR, 'dicom')"
   ]
  },
  {
   "cell_type": "markdown",
   "metadata": {},
   "source": [
    "### Create `mdai` client"
   ]
  },
  {
   "cell_type": "code",
   "execution_count": null,
   "metadata": {},
   "outputs": [],
   "source": [
    "mdai_client = mdai.Client(domain='public.md.ai', access_token=\"ACCESS_TOKEN\")\n",
    "p = mdai_client.project('PROJECT_ID', path='data')"
   ]
  },
  {
   "cell_type": "code",
   "execution_count": null,
   "metadata": {},
   "outputs": [],
   "source": [
    "# get labed_id \n",
    "p.show_label_groups()"
   ]
  },
  {
   "cell_type": "code",
   "execution_count": null,
   "metadata": {},
   "outputs": [],
   "source": [
    "# get dataset id \n",
    "p.show_datasets() "
   ]
  },
  {
   "cell_type": "markdown",
   "metadata": {},
   "source": [
    "## User need to specify \n",
    "- dataset id, e.g., 'D_qGQdpN'\n",
    "- label id (to clone from), e.g., 'L_egJRyg'"
   ]
  },
  {
   "cell_type": "code",
   "execution_count": 7,
   "metadata": {},
   "outputs": [],
   "source": [
    "# specify label ids\n",
    "label_ids = ['L_38Y7Jl', 'L_z8xEkB']"
   ]
  },
  {
   "cell_type": "code",
   "execution_count": 8,
   "metadata": {},
   "outputs": [],
   "source": [
    "# specify dataset id to upload annotations to\n",
    "dataset_id = ['D_8ogmzN']"
   ]
  },
  {
   "cell_type": "markdown",
   "metadata": {},
   "source": [
    "### Prepare annotations "
   ]
  },
  {
   "cell_type": "code",
   "execution_count": 5,
   "metadata": {},
   "outputs": [],
   "source": [
    "# read annotations \n",
    "anns_csv = pd.read_csv(os.path.join(ROOT_DIR, 'annotaions.csv'))"
   ]
  },
  {
   "cell_type": "code",
   "execution_count": 6,
   "metadata": {},
   "outputs": [
    {
     "data": {
      "text/html": [
       "<div>\n",
       "<style scoped>\n",
       "    .dataframe tbody tr th:only-of-type {\n",
       "        vertical-align: middle;\n",
       "    }\n",
       "\n",
       "    .dataframe tbody tr th {\n",
       "        vertical-align: top;\n",
       "    }\n",
       "\n",
       "    .dataframe thead th {\n",
       "        text-align: right;\n",
       "    }\n",
       "</style>\n",
       "<table border=\"1\" class=\"dataframe\">\n",
       "  <thead>\n",
       "    <tr style=\"text-align: right;\">\n",
       "      <th></th>\n",
       "      <th>patientId</th>\n",
       "      <th>x</th>\n",
       "      <th>y</th>\n",
       "      <th>width</th>\n",
       "      <th>height</th>\n",
       "      <th>Target</th>\n",
       "    </tr>\n",
       "  </thead>\n",
       "  <tbody>\n",
       "    <tr>\n",
       "      <th>0</th>\n",
       "      <td>0004cfab-14fd-4e49-80ba-63a80b6bddd6</td>\n",
       "      <td>NaN</td>\n",
       "      <td>NaN</td>\n",
       "      <td>NaN</td>\n",
       "      <td>NaN</td>\n",
       "      <td>0</td>\n",
       "    </tr>\n",
       "    <tr>\n",
       "      <th>1</th>\n",
       "      <td>00313ee0-9eaa-42f4-b0ab-c148ed3241cd</td>\n",
       "      <td>NaN</td>\n",
       "      <td>NaN</td>\n",
       "      <td>NaN</td>\n",
       "      <td>NaN</td>\n",
       "      <td>0</td>\n",
       "    </tr>\n",
       "    <tr>\n",
       "      <th>2</th>\n",
       "      <td>00322d4d-1c29-4943-afc9-b6754be640eb</td>\n",
       "      <td>NaN</td>\n",
       "      <td>NaN</td>\n",
       "      <td>NaN</td>\n",
       "      <td>NaN</td>\n",
       "      <td>0</td>\n",
       "    </tr>\n",
       "    <tr>\n",
       "      <th>3</th>\n",
       "      <td>003d8fa0-6bf1-40ed-b54c-ac657f8495c5</td>\n",
       "      <td>NaN</td>\n",
       "      <td>NaN</td>\n",
       "      <td>NaN</td>\n",
       "      <td>NaN</td>\n",
       "      <td>0</td>\n",
       "    </tr>\n",
       "    <tr>\n",
       "      <th>4</th>\n",
       "      <td>00436515-870c-4b36-a041-de91049b9ab4</td>\n",
       "      <td>264.0</td>\n",
       "      <td>152.0</td>\n",
       "      <td>213.0</td>\n",
       "      <td>379.0</td>\n",
       "      <td>1</td>\n",
       "    </tr>\n",
       "  </tbody>\n",
       "</table>\n",
       "</div>"
      ],
      "text/plain": [
       "                              patientId      x      y  width  height  Target\n",
       "0  0004cfab-14fd-4e49-80ba-63a80b6bddd6    NaN    NaN    NaN     NaN       0\n",
       "1  00313ee0-9eaa-42f4-b0ab-c148ed3241cd    NaN    NaN    NaN     NaN       0\n",
       "2  00322d4d-1c29-4943-afc9-b6754be640eb    NaN    NaN    NaN     NaN       0\n",
       "3  003d8fa0-6bf1-40ed-b54c-ac657f8495c5    NaN    NaN    NaN     NaN       0\n",
       "4  00436515-870c-4b36-a041-de91049b9ab4  264.0  152.0  213.0   379.0       1"
      ]
     },
     "execution_count": 6,
     "metadata": {},
     "output_type": "execute_result"
    }
   ],
   "source": [
    "anns_csv.head()"
   ]
  },
  {
   "cell_type": "code",
   "execution_count": 14,
   "metadata": {},
   "outputs": [],
   "source": [
    "def create_annotations(anns): \n",
    "    \n",
    "    # label id (or type)\n",
    "    # dataset id \n",
    "    # StudyInstanceUID or SeriesInstanceUID or SOPInstance UID \n",
    "    # data (only if local AND SOPInstance UID ?) \n",
    "    \n",
    "    annotations = []\n",
    "\n",
    "    for index, row in tqdm(anns.iterrows()):\n",
    "        \n",
    "        # build annotation \n",
    "        \n",
    "        a = {\n",
    "            'labelId': label_id, # or label_type ?\n",
    "            'dicomDatasetId': dicom_dataset_id, # dataset id \n",
    "            'SOPInstanceUID': sop_instance_uid, \n",
    "            'SeriesInstanceUID': series_instance_uid, \n",
    "            'StudyInstanceUID' : study_instance_uid, \n",
    "            'data':json.dumps({data}), # could be null  \n",
    "        }\n",
    "        annotations.append(a)\n",
    "    \n",
    "    return annotations "
   ]
  },
  {
   "cell_type": "code",
   "execution_count": 15,
   "metadata": {
    "scrolled": true
   },
   "outputs": [
    {
     "name": "stderr",
     "output_type": "stream",
     "text": [
      "28989it [00:29, 979.11it/s]\n"
     ]
    }
   ],
   "source": [
    "anns_train = create_annotations(train_csv, 'train') "
   ]
  },
  {
   "cell_type": "code",
   "execution_count": 16,
   "metadata": {},
   "outputs": [],
   "source": [
    "anns_df = pd.DataFrame(anns_train)"
   ]
  },
  {
   "cell_type": "code",
   "execution_count": 18,
   "metadata": {},
   "outputs": [
    {
     "data": {
      "text/html": [
       "<div>\n",
       "<style scoped>\n",
       "    .dataframe tbody tr th:only-of-type {\n",
       "        vertical-align: middle;\n",
       "    }\n",
       "\n",
       "    .dataframe tbody tr th {\n",
       "        vertical-align: top;\n",
       "    }\n",
       "\n",
       "    .dataframe thead th {\n",
       "        text-align: right;\n",
       "    }\n",
       "</style>\n",
       "<table border=\"1\" class=\"dataframe\">\n",
       "  <thead>\n",
       "    <tr style=\"text-align: right;\">\n",
       "      <th></th>\n",
       "      <th>SOPInstanceUID</th>\n",
       "      <th>data</th>\n",
       "      <th>dicomDatasetId</th>\n",
       "      <th>labelId</th>\n",
       "    </tr>\n",
       "  </thead>\n",
       "  <tbody>\n",
       "    <tr>\n",
       "      <th>0</th>\n",
       "      <td>1.2.276.0.7230010.3.1.4.8323329.28530.15178744...</td>\n",
       "      <td>NaN</td>\n",
       "      <td>78</td>\n",
       "      <td>457</td>\n",
       "    </tr>\n",
       "    <tr>\n",
       "      <th>1</th>\n",
       "      <td>1.2.276.0.7230010.3.1.4.8323329.26024.15178744...</td>\n",
       "      <td>NaN</td>\n",
       "      <td>78</td>\n",
       "      <td>457</td>\n",
       "    </tr>\n",
       "    <tr>\n",
       "      <th>2</th>\n",
       "      <td>1.2.276.0.7230010.3.1.4.8323329.11252.15178743...</td>\n",
       "      <td>NaN</td>\n",
       "      <td>78</td>\n",
       "      <td>457</td>\n",
       "    </tr>\n",
       "    <tr>\n",
       "      <th>3</th>\n",
       "      <td>1.2.276.0.7230010.3.1.4.8323329.2293.151787429...</td>\n",
       "      <td>NaN</td>\n",
       "      <td>78</td>\n",
       "      <td>457</td>\n",
       "    </tr>\n",
       "    <tr>\n",
       "      <th>4</th>\n",
       "      <td>1.2.276.0.7230010.3.1.4.8323329.6379.151787432...</td>\n",
       "      <td>{\"x\": 264.0, \"y\": 152.0, \"width\": 213.0, \"heig...</td>\n",
       "      <td>78</td>\n",
       "      <td>458</td>\n",
       "    </tr>\n",
       "    <tr>\n",
       "      <th>5</th>\n",
       "      <td>1.2.276.0.7230010.3.1.4.8323329.6379.151787432...</td>\n",
       "      <td>{\"x\": 562.0, \"y\": 152.0, \"width\": 256.0, \"heig...</td>\n",
       "      <td>78</td>\n",
       "      <td>458</td>\n",
       "    </tr>\n",
       "    <tr>\n",
       "      <th>6</th>\n",
       "      <td>1.2.276.0.7230010.3.1.4.8323329.18028.15178744...</td>\n",
       "      <td>NaN</td>\n",
       "      <td>78</td>\n",
       "      <td>457</td>\n",
       "    </tr>\n",
       "    <tr>\n",
       "      <th>7</th>\n",
       "      <td>1.2.276.0.7230010.3.1.4.8323329.27915.15178744...</td>\n",
       "      <td>NaN</td>\n",
       "      <td>78</td>\n",
       "      <td>457</td>\n",
       "    </tr>\n",
       "    <tr>\n",
       "      <th>8</th>\n",
       "      <td>1.2.276.0.7230010.3.1.4.8323329.4188.151787430...</td>\n",
       "      <td>{\"x\": 323.0, \"y\": 577.0, \"width\": 160.0, \"heig...</td>\n",
       "      <td>78</td>\n",
       "      <td>458</td>\n",
       "    </tr>\n",
       "    <tr>\n",
       "      <th>9</th>\n",
       "      <td>1.2.276.0.7230010.3.1.4.8323329.4188.151787430...</td>\n",
       "      <td>{\"x\": 695.0, \"y\": 575.0, \"width\": 162.0, \"heig...</td>\n",
       "      <td>78</td>\n",
       "      <td>458</td>\n",
       "    </tr>\n",
       "    <tr>\n",
       "      <th>10</th>\n",
       "      <td>1.2.276.0.7230010.3.1.4.8323329.17654.15178744...</td>\n",
       "      <td>NaN</td>\n",
       "      <td>78</td>\n",
       "      <td>457</td>\n",
       "    </tr>\n",
       "    <tr>\n",
       "      <th>11</th>\n",
       "      <td>1.2.276.0.7230010.3.1.4.8323329.5513.151787431...</td>\n",
       "      <td>NaN</td>\n",
       "      <td>78</td>\n",
       "      <td>457</td>\n",
       "    </tr>\n",
       "    <tr>\n",
       "      <th>12</th>\n",
       "      <td>1.2.276.0.7230010.3.1.4.8323329.18137.15178744...</td>\n",
       "      <td>NaN</td>\n",
       "      <td>78</td>\n",
       "      <td>457</td>\n",
       "    </tr>\n",
       "    <tr>\n",
       "      <th>13</th>\n",
       "      <td>1.2.276.0.7230010.3.1.4.8323329.18264.15178744...</td>\n",
       "      <td>NaN</td>\n",
       "      <td>78</td>\n",
       "      <td>457</td>\n",
       "    </tr>\n",
       "    <tr>\n",
       "      <th>14</th>\n",
       "      <td>1.2.276.0.7230010.3.1.4.8323329.13250.15178743...</td>\n",
       "      <td>{\"x\": 288.0, \"y\": 322.0, \"width\": 94.0, \"heigh...</td>\n",
       "      <td>78</td>\n",
       "      <td>458</td>\n",
       "    </tr>\n",
       "    <tr>\n",
       "      <th>15</th>\n",
       "      <td>1.2.276.0.7230010.3.1.4.8323329.13250.15178743...</td>\n",
       "      <td>{\"x\": 547.0, \"y\": 299.0, \"width\": 119.0, \"heig...</td>\n",
       "      <td>78</td>\n",
       "      <td>458</td>\n",
       "    </tr>\n",
       "    <tr>\n",
       "      <th>16</th>\n",
       "      <td>1.2.276.0.7230010.3.1.4.8323329.21004.15178744...</td>\n",
       "      <td>{\"x\": 306.0, \"y\": 544.0, \"width\": 168.0, \"heig...</td>\n",
       "      <td>78</td>\n",
       "      <td>458</td>\n",
       "    </tr>\n",
       "    <tr>\n",
       "      <th>17</th>\n",
       "      <td>1.2.276.0.7230010.3.1.4.8323329.21004.15178744...</td>\n",
       "      <td>{\"x\": 650.0, \"y\": 511.0, \"width\": 206.0, \"heig...</td>\n",
       "      <td>78</td>\n",
       "      <td>458</td>\n",
       "    </tr>\n",
       "    <tr>\n",
       "      <th>18</th>\n",
       "      <td>1.2.276.0.7230010.3.1.4.8323329.23037.15178744...</td>\n",
       "      <td>NaN</td>\n",
       "      <td>78</td>\n",
       "      <td>457</td>\n",
       "    </tr>\n",
       "    <tr>\n",
       "      <th>19</th>\n",
       "      <td>1.2.276.0.7230010.3.1.4.8323329.1556.151787429...</td>\n",
       "      <td>{\"x\": 181.0, \"y\": 184.0, \"width\": 206.0, \"heig...</td>\n",
       "      <td>78</td>\n",
       "      <td>458</td>\n",
       "    </tr>\n",
       "  </tbody>\n",
       "</table>\n",
       "</div>"
      ],
      "text/plain": [
       "                                       SOPInstanceUID  \\\n",
       "0   1.2.276.0.7230010.3.1.4.8323329.28530.15178744...   \n",
       "1   1.2.276.0.7230010.3.1.4.8323329.26024.15178744...   \n",
       "2   1.2.276.0.7230010.3.1.4.8323329.11252.15178743...   \n",
       "3   1.2.276.0.7230010.3.1.4.8323329.2293.151787429...   \n",
       "4   1.2.276.0.7230010.3.1.4.8323329.6379.151787432...   \n",
       "5   1.2.276.0.7230010.3.1.4.8323329.6379.151787432...   \n",
       "6   1.2.276.0.7230010.3.1.4.8323329.18028.15178744...   \n",
       "7   1.2.276.0.7230010.3.1.4.8323329.27915.15178744...   \n",
       "8   1.2.276.0.7230010.3.1.4.8323329.4188.151787430...   \n",
       "9   1.2.276.0.7230010.3.1.4.8323329.4188.151787430...   \n",
       "10  1.2.276.0.7230010.3.1.4.8323329.17654.15178744...   \n",
       "11  1.2.276.0.7230010.3.1.4.8323329.5513.151787431...   \n",
       "12  1.2.276.0.7230010.3.1.4.8323329.18137.15178744...   \n",
       "13  1.2.276.0.7230010.3.1.4.8323329.18264.15178744...   \n",
       "14  1.2.276.0.7230010.3.1.4.8323329.13250.15178743...   \n",
       "15  1.2.276.0.7230010.3.1.4.8323329.13250.15178743...   \n",
       "16  1.2.276.0.7230010.3.1.4.8323329.21004.15178744...   \n",
       "17  1.2.276.0.7230010.3.1.4.8323329.21004.15178744...   \n",
       "18  1.2.276.0.7230010.3.1.4.8323329.23037.15178744...   \n",
       "19  1.2.276.0.7230010.3.1.4.8323329.1556.151787429...   \n",
       "\n",
       "                                                 data  dicomDatasetId  labelId  \n",
       "0                                                 NaN              78      457  \n",
       "1                                                 NaN              78      457  \n",
       "2                                                 NaN              78      457  \n",
       "3                                                 NaN              78      457  \n",
       "4   {\"x\": 264.0, \"y\": 152.0, \"width\": 213.0, \"heig...              78      458  \n",
       "5   {\"x\": 562.0, \"y\": 152.0, \"width\": 256.0, \"heig...              78      458  \n",
       "6                                                 NaN              78      457  \n",
       "7                                                 NaN              78      457  \n",
       "8   {\"x\": 323.0, \"y\": 577.0, \"width\": 160.0, \"heig...              78      458  \n",
       "9   {\"x\": 695.0, \"y\": 575.0, \"width\": 162.0, \"heig...              78      458  \n",
       "10                                                NaN              78      457  \n",
       "11                                                NaN              78      457  \n",
       "12                                                NaN              78      457  \n",
       "13                                                NaN              78      457  \n",
       "14  {\"x\": 288.0, \"y\": 322.0, \"width\": 94.0, \"heigh...              78      458  \n",
       "15  {\"x\": 547.0, \"y\": 299.0, \"width\": 119.0, \"heig...              78      458  \n",
       "16  {\"x\": 306.0, \"y\": 544.0, \"width\": 168.0, \"heig...              78      458  \n",
       "17  {\"x\": 650.0, \"y\": 511.0, \"width\": 206.0, \"heig...              78      458  \n",
       "18                                                NaN              78      457  \n",
       "19  {\"x\": 181.0, \"y\": 184.0, \"width\": 206.0, \"heig...              78      458  "
      ]
     },
     "execution_count": 18,
     "metadata": {},
     "output_type": "execute_result"
    }
   ],
   "source": [
    "anns_df.head(20)"
   ]
  },
  {
   "cell_type": "markdown",
   "metadata": {},
   "source": [
    "## Server side \n",
    "\n",
    "### TODO: graphql & resolver \n",
    "\n",
    "- create ml model id per job, ml model id is unique, optionally allow user to specify ml model name \n",
    "\n",
    "- validate label scope, type \n",
    "- validate label annotation mode vs data field \n",
    "- return success/failure\n",
    "\n",
    "**possible new ux feature**\n",
    "- batch delete by ml model id/name "
   ]
  },
  {
   "cell_type": "markdown",
   "metadata": {},
   "source": [
    "## Client Side \n",
    "\n",
    "### TODO: Upload annotations"
   ]
  },
  {
   "cell_type": "code",
   "execution_count": null,
   "metadata": {},
   "outputs": [],
   "source": [
    "# see implementation below. should use mdai.Client() to auth \n",
    "res = mdai_client.upload_anns(anns)"
   ]
  },
  {
   "cell_type": "code",
   "execution_count": 2,
   "metadata": {},
   "outputs": [],
   "source": [
    "def upload_anns(anns): \n",
    "    # TODO: \n",
    "    # batch (implement as python generator)\n",
    "    # call graphql query \n",
    "    # report progress \n",
    "    # report error \n",
    "    \n",
    "    # TODO: need unique job id \n",
    "    # - ml model id stays same for this job id \n",
    "    # \n",
    "    \n",
    "    # TODO: batch generator for anns \n",
    "    for batch in BatchGenerator(anns):\n",
    "        query = '''\n",
    "        mutation CreateDicomAnnotationBatch($input: CreateDicomAnnotationBatchInput!) {\n",
    "          createDicomAnnotationBatch(input: $input) {\n",
    "            id\n",
    "          }\n",
    "        }\n",
    "        '''\n",
    "        variables = {'input': batch}\n",
    "\n",
    "        data = {'query': query, 'variables': variables}\n",
    "        \n",
    "        # TODO: \n",
    "        # - check to see if uploading is successful for current batch \n",
    "        # - (maybe) keep track of \n",
    "\n",
    "        headers={\n",
    "            'Accept': 'application/json', \n",
    "            'Content-Type': 'application/json', \n",
    "            'Authorization': 'Bearer {}'.format(auth_token)\n",
    "        }\n",
    "        r = session.post('https://public.md.ai/api/graphql', headers=headers, json=data)\n",
    "\n",
    "        if r.status_code != 200:\n",
    "            print('error creating annotation', r.status_code)\n",
    "            print(r)\n",
    "            break\n",
    "        else:\n",
    "            body = r.json()\n",
    "            if 'errors' in body:\n",
    "                print('error creating annotation', body['errors'])\n",
    "    "
   ]
  },
  {
   "cell_type": "code",
   "execution_count": 3,
   "metadata": {},
   "outputs": [],
   "source": [
    "## TODO: implement batch generator for anns \n",
    "def BatchGenerator(anns):\n",
    "    # TODO: batch anns\n",
    "    return batch_anns"
   ]
  }
 ],
 "metadata": {
  "kernelspec": {
   "display_name": "Python 3",
   "language": "python",
   "name": "python3"
  },
  "language_info": {
   "codemirror_mode": {
    "name": "ipython",
    "version": 3
   },
   "file_extension": ".py",
   "mimetype": "text/x-python",
   "name": "python",
   "nbconvert_exporter": "python",
   "pygments_lexer": "ipython3",
   "version": "3.6.5"
  }
 },
 "nbformat": 4,
 "nbformat_minor": 2
}
